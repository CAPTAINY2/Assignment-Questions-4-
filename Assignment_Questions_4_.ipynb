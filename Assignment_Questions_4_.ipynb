{
  "nbformat": 4,
  "nbformat_minor": 0,
  "metadata": {
    "colab": {
      "provenance": [],
      "authorship_tag": "ABX9TyPB0wqvZ8cBy3P6LTUUQpDM",
      "include_colab_link": true
    },
    "kernelspec": {
      "name": "python3",
      "display_name": "Python 3"
    },
    "language_info": {
      "name": "python"
    }
  },
  "cells": [
    {
      "cell_type": "markdown",
      "metadata": {
        "id": "view-in-github",
        "colab_type": "text"
      },
      "source": [
        "<a href=\"https://colab.research.google.com/github/CAPTAINY2/Assignment-Questions-4-/blob/main/Assignment_Questions_4_.ipynb\" target=\"_parent\"><img src=\"https://colab.research.google.com/assets/colab-badge.svg\" alt=\"Open In Colab\"/></a>"
      ]
    },
    {
      "cell_type": "markdown",
      "source": [
        "### OUESTION-1"
      ],
      "metadata": {
        "id": "h0QKqlpwv9Wf"
      }
    },
    {
      "cell_type": "code",
      "execution_count": null,
      "metadata": {
        "colab": {
          "base_uri": "https://localhost:8080/"
        },
        "id": "0pFDVdhQD2vm",
        "outputId": "c13b4427-4ed1-4b9c-d198-7d410fc70b7a"
      },
      "outputs": [
        {
          "output_type": "stream",
          "name": "stdout",
          "text": [
            "Output: [1, 5]\n"
          ]
        }
      ],
      "source": [
        "arr1 = [1, 2, 3, 4, 5]\n",
        "arr2 = [1, 2, 5, 7, 9]\n",
        "arr3 = [1, 3, 4, 5, 8]\n",
        "\n",
        "def integer(arr1, arr2, arr3):\n",
        "    p1 = p2 = p3 = 0\n",
        "    result = []\n",
        "\n",
        "    while p1 < len(arr1) and p2 < len(arr2) and p3 < len(arr3):\n",
        "        if arr1[p1] == arr2[p2] == arr3[p3]:\n",
        "            result.append(arr1[p1])\n",
        "            p1 += 1\n",
        "            p2 += 1\n",
        "            p3 += 1\n",
        "        elif arr1[p1] < arr2[p2]:\n",
        "            p1 += 1\n",
        "        elif arr2[p2] < arr3[p3]:\n",
        "            p2 += 1\n",
        "        else:\n",
        "            p3 += 1\n",
        "\n",
        "    return result\n",
        "\n",
        "result = integer(arr1, arr2, arr3)\n",
        "print(f\"Output: {result}\")  \n"
      ]
    },
    {
      "cell_type": "markdown",
      "source": [
        "### OUESTION-2"
      ],
      "metadata": {
        "id": "u6wH5ZfowCXb"
      }
    },
    {
      "cell_type": "code",
      "source": [
        "def integer(nums1, nums2):\n",
        "    set1 = set(nums1)\n",
        "    set2 = set(nums2)\n",
        "    result1 = [num for num in set1 if num not in set2]\n",
        "    result2 = [num for num in set2 if num not in set1]\n",
        "    return [result1, result2]\n",
        "\n",
        "nums1 = [1, 2, 3]\n",
        "nums2 = [2, 4, 6]\n",
        "\n",
        "print(f\"Output: {integer(nums1, nums2)}\") \n"
      ],
      "metadata": {
        "colab": {
          "base_uri": "https://localhost:8080/"
        },
        "id": "o-Gg3VhPN2lh",
        "outputId": "c35c2c7e-79a7-4e6a-90f8-3c99aaf26207"
      },
      "execution_count": null,
      "outputs": [
        {
          "output_type": "stream",
          "name": "stdout",
          "text": [
            "Output: [[1, 3], [4, 6]]\n"
          ]
        }
      ]
    },
    {
      "cell_type": "markdown",
      "source": [
        "### OUESTION-3"
      ],
      "metadata": {
        "id": "0v2onJebwEH3"
      }
    },
    {
      "cell_type": "code",
      "source": [
        "matrix = [[1, 2, 3], [4, 5, 6], [7, 8, 9]]\n",
        "\n",
        "def transpose(matrix):\n",
        "    row = len(matrix)\n",
        "    col = len(matrix[0])\n",
        "    transpose = [[0] * row for _ in range(col)]\n",
        "\n",
        "    for i in range(row):\n",
        "        for j in range(col):\n",
        "            transpose[j][i] = matrix[i][j]\n",
        "\n",
        "    return transpose\n",
        "\n",
        "print(f\"Output: {transpose(matrix)}\")  \n"
      ],
      "metadata": {
        "colab": {
          "base_uri": "https://localhost:8080/"
        },
        "id": "G-HfWd96PrIj",
        "outputId": "df29ee88-4adc-4853-dad1-adffd86569a9"
      },
      "execution_count": null,
      "outputs": [
        {
          "output_type": "stream",
          "name": "stdout",
          "text": [
            "Output: [[1, 4, 7], [2, 5, 8], [3, 6, 9]]\n"
          ]
        }
      ]
    },
    {
      "cell_type": "markdown",
      "source": [
        "### OUESTION-4"
      ],
      "metadata": {
        "id": "ZTIcOWTVwGDy"
      }
    },
    {
      "cell_type": "code",
      "source": [
        "nums = [1, 4, 3, 2]\n",
        "\n",
        "def sum(nums):\n",
        "    nums.sort()\n",
        "    max_sum = 0\n",
        "\n",
        "    for i in range(0, len(nums), 2):\n",
        "        max_sum += nums[i]\n",
        "\n",
        "    return max_sum\n",
        "\n",
        "print(sum(nums))  \n"
      ],
      "metadata": {
        "colab": {
          "base_uri": "https://localhost:8080/"
        },
        "id": "yL1asON_QhiH",
        "outputId": "d4be040c-4dce-4115-dbcc-0f7236e29daf"
      },
      "execution_count": null,
      "outputs": [
        {
          "output_type": "stream",
          "name": "stdout",
          "text": [
            "4\n"
          ]
        }
      ]
    },
    {
      "cell_type": "markdown",
      "source": [
        "### OUESTION-5"
      ],
      "metadata": {
        "id": "6xb0X5PIwIUD"
      }
    },
    {
      "cell_type": "code",
      "source": [
        "n = 5\n",
        "\n",
        "def Coins(n):\n",
        "    row = 0\n",
        "\n",
        "    while n >= row + 1:\n",
        "        row += 1\n",
        "        n -= row\n",
        "\n",
        "    return row\n",
        "\n",
        "print(Coins(n)) \n"
      ],
      "metadata": {
        "colab": {
          "base_uri": "https://localhost:8080/"
        },
        "id": "yKlixikWR-Za",
        "outputId": "785c5905-8ddd-4d24-c8c0-3a1b8d792290"
      },
      "execution_count": null,
      "outputs": [
        {
          "output_type": "stream",
          "name": "stdout",
          "text": [
            "2\n"
          ]
        }
      ]
    },
    {
      "cell_type": "markdown",
      "source": [
        "### OUESTION-6"
      ],
      "metadata": {
        "id": "0JflQ2I1wK-5"
      }
    },
    {
      "cell_type": "code",
      "source": [
        "nums = [-4, -1, 0, 3, 10]\n",
        "\n",
        "def Squares(nums):\n",
        "    dec = 0\n",
        "    non_dec = len(nums) - 1\n",
        "    result = []\n",
        "\n",
        "    while dec <= non_dec:\n",
        "        if nums[dec] * nums[dec] >= nums[non_dec] * nums[non_dec]:\n",
        "            result.append(nums[dec] * nums[dec])\n",
        "            dec += 1\n",
        "        else:\n",
        "            result.append(nums[non_dec] * nums[non_dec])\n",
        "            dec -= 1\n",
        "\n",
        "    return result[::-1]\n",
        "\n",
        "print(f\"Output: { Squares(nums)}\")"
      ],
      "metadata": {
        "id": "P2NxiXNoSoJy"
      },
      "execution_count": null,
      "outputs": []
    },
    {
      "cell_type": "markdown",
      "source": [
        "### OUESTION-7"
      ],
      "metadata": {
        "id": "BrAxDgCLwNDj"
      }
    },
    {
      "cell_type": "code",
      "source": [
        "m = 3\n",
        "n = 3\n",
        "ops = [[2, 2], [3, 3]]\n",
        "\n",
        "def count(m, n, ops):\n",
        "    row = m\n",
        "    col = n\n",
        "\n",
        "    for op in ops:\n",
        "        row = min(row, op[0])\n",
        "        col = min(col, op[1])\n",
        "\n",
        "    return row * col\n",
        "\n",
        "print(f\"Output: {count(m, n, ops)}\")"
      ],
      "metadata": {
        "id": "2KbI5gVOVPfV"
      },
      "execution_count": null,
      "outputs": []
    },
    {
      "cell_type": "markdown",
      "source": [
        "### OUESTION-8"
      ],
      "metadata": {
        "id": "JERvKf6Uv3Oc"
      }
    },
    {
      "cell_type": "code",
      "source": [
        "nums = [2, 5, 1, 3, 4, 7]\n",
        "n = 3\n",
        "\n",
        "def elements(nums, n):\n",
        "    result = []\n",
        "\n",
        "    for i in range(n):\n",
        "        result.append(nums[i])\n",
        "        result.append(nums[i + n])\n",
        "\n",
        "    return result\n",
        "\n",
        "print(f\"Output: {elements(nums, n)}\") \n"
      ],
      "metadata": {
        "id": "FStD1ARycyWV"
      },
      "execution_count": null,
      "outputs": []
    },
    {
      "cell_type": "code",
      "source": [],
      "metadata": {
        "id": "0N3buXspdVbt"
      },
      "execution_count": null,
      "outputs": []
    }
  ]
}